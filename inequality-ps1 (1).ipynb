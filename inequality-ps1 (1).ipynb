{
 "cells": [
  {
   "cell_type": "markdown",
   "id": "ac912397-33e6-49e4-96be-85b9d2626598",
   "metadata": {},
   "source": [
    "# inequality-PSET-1"
   ]
  },
  {
   "cell_type": "markdown",
   "id": "d798f863-17ae-4540-923c-6e84f4eda073",
   "metadata": {},
   "source": [
    "## question 2"
   ]
  },
  {
   "cell_type": "code",
   "execution_count": 1,
   "id": "aa1aefa7-7a80-4c0a-b6c0-1cd86b302828",
   "metadata": {},
   "outputs": [
    {
     "name": "stdout",
     "output_type": "stream",
     "text": [
      "0.387 0.395\n"
     ]
    }
   ],
   "source": [
    "### 2.ii\n",
    "\n",
    "import numpy as np\n",
    "\n",
    "def gini_index(y):\n",
    "    # 将收入数据排序\n",
    "    y = np.sort(y)\n",
    "    n = len(y)\n",
    "    \n",
    "    # 使用提供的公式计算 Gini 指数\n",
    "    numerator = 0\n",
    "    for i in range(n - 1):\n",
    "        for j in range(i + 1, n):\n",
    "            numerator += (y[j] - y[i])\n",
    "    \n",
    "    # 计算分母\n",
    "    denominator = n * np.sum(y)\n",
    "    \n",
    "    # Gini 指数计算\n",
    "    gini_index = numerator / denominator\n",
    "    return gini_index\n",
    "\n",
    "# 组的收入数据\n",
    "income_data_a = np.array([10000, 5000, 1000, 30000, 34000, 50000, 60000, 70000, 75000, 80000])\n",
    "income_data_b = np.array([10000,10000,25000,30000,35000,50000,70000,90000,100000,130000])\n",
    "\n",
    "gini_a = gini_index(income_data_a)\n",
    "gini_b = gini_index(income_data_b)\n",
    "print(round(gini_a,3),round(gini_b,3))"
   ]
  },
  {
   "cell_type": "code",
   "execution_count": 2,
   "id": "0e0e1999-1b6a-4262-b3a9-fb7d4e972ef2",
   "metadata": {},
   "outputs": [
    {
     "name": "stdout",
     "output_type": "stream",
     "text": [
      "0.404\n"
     ]
    }
   ],
   "source": [
    "### 2.iv\n",
    "\n",
    "income_data_c = np.array([10000,5000,1000,30000,34000,50000,60000,70000,75000,80000,\n",
    "                          10000,10000,25000,30000,35000,50000,70000,90000,100000,130000])\n",
    "gini_c = gini_index(income_data_c)\n",
    "print(round(gini_c,3))"
   ]
  },
  {
   "cell_type": "markdown",
   "id": "2ba100e5-8c02-491d-bc7a-783fc87f81c8",
   "metadata": {},
   "source": [
    "## question 3"
   ]
  },
  {
   "cell_type": "code",
   "execution_count": 3,
   "id": "62231e91-caa0-4333-b853-d0047393d996",
   "metadata": {},
   "outputs": [
    {
     "name": "stdout",
     "output_type": "stream",
     "text": [
      "Group A Theil T Index: 0.28884982581454594\n",
      "Group B Theil T Index: 0.254979334378804\n",
      "m_a: 41500.0\n",
      "m_b: 55000.0\n",
      "m: 48250.0\n",
      "N_a: 10\n",
      "N_b: 10\n",
      "N: 20\n",
      "T_within: 0.2695454006439158\n",
      "T_between: 0.009817668775699215\n",
      "T_index_for_groupK: 0.27936306941961503\n",
      "contribution of between group 0.03514304448363812\n"
     ]
    }
   ],
   "source": [
    "import numpy as np\n",
    "\n",
    "# 定义收入数据\n",
    "income_data_a = np.array([10000, 5000, 1000, 30000, 34000, 50000, 60000, 70000, 75000, 80000])\n",
    "income_data_b = np.array([10000, 10000, 25000, 30000, 35000, 50000, 70000, 90000, 100000, 130000])\n",
    "\n",
    "# 每个组的人数\n",
    "N_a = len(income_data_a)\n",
    "N_b = len(income_data_b)\n",
    "N = N_a + N_b  # 总人数\n",
    "\n",
    "# 每个组的平均收入\n",
    "m_a = np.sum(income_data_a)/N_a\n",
    "m_b = np.sum(income_data_b)/N_b\n",
    "m = (np.sum(income_data_a)+np.sum(income_data_b))/N  # 总收入\n",
    "\n",
    "# 定义 Theil T 指数的计算函数\n",
    "def theil_index(income_data):\n",
    "    n = len(income_data)\n",
    "    mu = np.mean(income_data)\n",
    "    # 计算 Theil T 指数\n",
    "    theil_t = (1/n) * np.sum((income_data / mu) * np.log(income_data / mu))\n",
    "    return theil_t\n",
    "\n",
    "# 计算每个组的 Theil T 指数\n",
    "T_a = theil_index(income_data_a)\n",
    "T_b = theil_index(income_data_b)\n",
    "\n",
    "# 计算 T_within\n",
    "T_within = (N_a / N) * (m_a / m) * T_a + (N_b / N) * (m_b / m) * T_b\n",
    "\n",
    "# 计算 T_between\n",
    "T_between = (N_a / N) * (m_a / m) * np.log(m_a / m) + (N_b / N) * (m_b / m) * np.log(m_b / m)\n",
    "\n",
    "# T index for K\n",
    "T_index = T_within + T_between\n",
    "\n",
    "# 输出结果\n",
    "print(\"Group A Theil T Index:\", T_a)\n",
    "print(\"Group B Theil T Index:\", T_b)\n",
    "print('m_a:',m_a)\n",
    "print('m_b:',m_b)\n",
    "print('m:',m)\n",
    "print('N_a:',N_a)\n",
    "print('N_b:',N_b)\n",
    "print('N:',N)\n",
    "print(\"T_within:\", T_within)\n",
    "print(\"T_between:\", T_between)\n",
    "print(\"T_index_for_groupK:\", T_index)\n",
    "print(\"contribution of between group\",T_between/T_index)"
   ]
  },
  {
   "cell_type": "markdown",
   "id": "6b027df1-4457-4b3e-bfe5-aea5922b5d14",
   "metadata": {},
   "source": [
    "## question 4"
   ]
  },
  {
   "cell_type": "code",
   "execution_count": 4,
   "id": "49b1f46b-eb87-4b69-adbb-195b042b2868",
   "metadata": {},
   "outputs": [
    {
     "name": "stdout",
     "output_type": "stream",
     "text": [
      "41500.0 55000.0 48250.0\n",
      "Atkinson Measure: 0.0\n",
      "Atkinson Measure: 0.0\n",
      "Atkinson Measure: 0.0\n"
     ]
    }
   ],
   "source": [
    "# 4.1\n",
    "\n",
    "import numpy as np\n",
    "\n",
    "def atkinson_measure(incomes, epsilon):\n",
    "    mu = np.mean(incomes)  # 计算平均收入\n",
    "    N = len(incomes)       # 收入数量\n",
    "\n",
    "    # 计算 Atkinson Measure\n",
    "    A = 1 - (1 / mu) * (np.sum(incomes ** (1 - epsilon)) / N) ** (1 / (1 - epsilon))\n",
    "    \n",
    "    return A\n",
    "\n",
    "# 示例收入数据\n",
    "epsilon = 0  # 设置敏感度参数\n",
    "\n",
    "print(np.mean(income_data_a),np.mean(income_data_b),np.mean(income_data_c))\n",
    "\n",
    "# 计算 Atkinson Measure\n",
    "A_a = atkinson_measure(income_data_a, epsilon)\n",
    "A_b = atkinson_measure(income_data_b, epsilon)\n",
    "A_c = atkinson_measure(income_data_c, epsilon)\n",
    "\n",
    "print(f\"Atkinson Measure: {A_a}\")\n",
    "print(f\"Atkinson Measure: {A_b}\")\n",
    "print(f\"Atkinson Measure: {A_c}\")"
   ]
  },
  {
   "cell_type": "code",
   "execution_count": 5,
   "id": "12a9830d-ab97-4b10-8c9e-9220d769c96a",
   "metadata": {},
   "outputs": [
    {
     "name": "stdout",
     "output_type": "stream",
     "text": [
      "41.5\n",
      "64260000000000.0\n",
      "55.0\n",
      "1.0749375e+16\n",
      "48.25\n",
      "6.907548375e+29\n",
      "0.42091011998788885 0.2709192496167244 0.35661804049906465\n"
     ]
    }
   ],
   "source": [
    "# 4.2\n",
    "income_data_a = np.array([10000,5000,1000,30000,34000,50000,60000,70000,75000,80000])\n",
    "income_data_b = np.array([10000,10000,25000,30000,35000,50000,70000,90000,100000,130000])\n",
    "income_data_c = np.array([10000,5000,1000,30000,34000,50000,60000,70000,75000,80000,\n",
    "                          10000,10000,25000,30000,35000,50000,70000,90000,100000,130000])\n",
    "\n",
    "def atkinson_ii_measure(y):\n",
    "    N = len(y)  # Number of elements in y\n",
    "    y = y / 1000\n",
    "    mu = np.mean(y)  # 计算平均收入\n",
    "    print(mu)\n",
    "    product_y = np.prod(y)# Product of elements in y\n",
    "    print(product_y)\n",
    "    result = 1 - (1 / mu) * (product_y ** (1 / N))  # Apply the formula\n",
    "    return result\n",
    "\n",
    "A_1_A = atkinson_ii_measure(income_data_a)\n",
    "A_1_B = atkinson_ii_measure(income_data_b)\n",
    "A_1_C = atkinson_ii_measure(income_data_c)\n",
    "print(A_1_A,A_1_B,A_1_C)"
   ]
  },
  {
   "cell_type": "code",
   "execution_count": 8,
   "id": "aa4fad86-0149-4eff-bc7c-b8050bb46bfb",
   "metadata": {},
   "outputs": [
    {
     "name": "stdout",
     "output_type": "stream",
     "text": [
      "1000\n",
      "41500.0\n",
      "10000\n",
      "55000.0\n",
      "1000\n",
      "48250.0\n",
      "0.9759036144578314 0.8181818181818181 0.9792746113989638\n"
     ]
    }
   ],
   "source": [
    "# Function to compute the Atkinson index for epsilon -> infinity\n",
    "def atkinson_einf(group):\n",
    "    min_income = np.min(group)\n",
    "    print(min_income)\n",
    "    mean_income = np.mean(group)\n",
    "    print(mean_income )\n",
    "    return 1 - (min_income / mean_income)\n",
    "\n",
    "\n",
    "A = atkinson_einf(income_data_a)\n",
    "B = atkinson_einf(income_data_b)\n",
    "C = atkinson_einf(income_data_c)\n",
    "\n",
    "print(A,B,C)"
   ]
  }
 ],
 "metadata": {
  "kernelspec": {
   "display_name": "Python 3 (ipykernel)",
   "language": "python",
   "name": "python3"
  },
  "language_info": {
   "codemirror_mode": {
    "name": "ipython",
    "version": 3
   },
   "file_extension": ".py",
   "mimetype": "text/x-python",
   "name": "python",
   "nbconvert_exporter": "python",
   "pygments_lexer": "ipython3",
   "version": "3.11.9"
  }
 },
 "nbformat": 4,
 "nbformat_minor": 5
}
